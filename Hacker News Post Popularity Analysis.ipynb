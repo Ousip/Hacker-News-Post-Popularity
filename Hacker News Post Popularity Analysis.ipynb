{
 "cells": [
  {
   "cell_type": "markdown",
   "metadata": {
    "collapsed": true
   },
   "source": [
    "# Hacker News Post Popularity Analysis"
   ]
  },
  {
   "cell_type": "markdown",
   "metadata": {},
   "source": [
    "Hacker News is a site where user-submitted stories are voted and commented upon in a similar fashioin to Reddit.\n",
    "\n",
    "Herein, we will analyse the historical post data on Hacker News to identify the characteristics of the popular posts on Hacker News."
   ]
  },
  {
   "cell_type": "code",
   "execution_count": 1,
   "metadata": {},
   "outputs": [],
   "source": [
    "from csv import reader\n",
    "opened_file = open('hacker_news.csv')\n",
    "read_file = reader(opened_file)\n",
    "hn = list(read_file)"
   ]
  },
  {
   "cell_type": "code",
   "execution_count": 2,
   "metadata": {},
   "outputs": [
    {
     "name": "stdout",
     "output_type": "stream",
     "text": [
      "[['id', 'title', 'url', 'num_points', 'num_comments', 'author', 'created_at'], ['12224879', 'Interactive Dynamic Video', 'http://www.interactivedynamicvideo.com/', '386', '52', 'ne0phyte', '8/4/2016 11:52'], ['10975351', 'How to Use Open Source and Shut the Fuck Up at the Same Time', 'http://hueniverse.com/2016/01/26/how-to-use-open-source-and-shut-the-fuck-up-at-the-same-time/', '39', '10', 'josep2', '1/26/2016 19:30'], ['11964716', \"Florida DJs May Face Felony for April Fools' Water Joke\", 'http://www.thewire.com/entertainment/2013/04/florida-djs-april-fools-water-joke/63798/', '2', '1', 'vezycash', '6/23/2016 22:20'], ['11919867', 'Technology ventures: From Idea to Enterprise', 'https://www.amazon.com/Technology-Ventures-Enterprise-Thomas-Byers/dp/0073523429', '3', '1', 'hswarna', '6/17/2016 0:01']]\n"
     ]
    }
   ],
   "source": [
    "print(hn[0:5])"
   ]
  },
  {
   "cell_type": "code",
   "execution_count": 3,
   "metadata": {},
   "outputs": [
    {
     "name": "stdout",
     "output_type": "stream",
     "text": [
      "[['12224879', 'Interactive Dynamic Video', 'http://www.interactivedynamicvideo.com/', '386', '52', 'ne0phyte', '8/4/2016 11:52'], ['10975351', 'How to Use Open Source and Shut the Fuck Up at the Same Time', 'http://hueniverse.com/2016/01/26/how-to-use-open-source-and-shut-the-fuck-up-at-the-same-time/', '39', '10', 'josep2', '1/26/2016 19:30'], ['11964716', \"Florida DJs May Face Felony for April Fools' Water Joke\", 'http://www.thewire.com/entertainment/2013/04/florida-djs-april-fools-water-joke/63798/', '2', '1', 'vezycash', '6/23/2016 22:20'], ['11919867', 'Technology ventures: From Idea to Enterprise', 'https://www.amazon.com/Technology-Ventures-Enterprise-Thomas-Byers/dp/0073523429', '3', '1', 'hswarna', '6/17/2016 0:01'], ['10301696', 'Note by Note: The Making of Steinway L1037 (2007)', 'http://www.nytimes.com/2007/11/07/movies/07stein.html?_r=0', '8', '2', 'walterbell', '9/30/2015 4:12'], ['10482257', 'Title II kills investment? Comcast and other ISPs are now spending more', 'http://arstechnica.com/business/2015/10/comcast-and-other-isps-boost-network-investment-despite-net-neutrality/', '53', '22', 'Deinos', '10/31/2015 9:48'], ['10557283', 'Nuts and Bolts Business Advice', '', '3', '4', 'shomberj', '11/13/2015 0:45'], ['12296411', 'Ask HN: How to improve my personal website?', '', '2', '6', 'ahmedbaracat', '8/16/2016 9:55'], ['11337617', 'Shims, Jigs and Other Woodworking Concepts to Conquer Technical Debt', 'http://firstround.com/review/shims-jigs-and-other-woodworking-concepts-to-conquer-technical-debt/', '34', '7', 'zt', '3/22/2016 16:18'], ['10379326', 'That self-appendectomy', 'http://www.southpolestation.com/trivia/igy1/appendix.html', '91', '10', 'jimsojim', '10/13/2015 9:30']]\n"
     ]
    }
   ],
   "source": [
    "# extracting headers\n",
    "headers = hn[0]\n",
    "hn = hn[1:]\n",
    "print(hn[:10])\n",
    "# headers have been successfully removed"
   ]
  },
  {
   "cell_type": "code",
   "execution_count": 4,
   "metadata": {},
   "outputs": [],
   "source": [
    "ask_posts = []\n",
    "show_posts = []\n",
    "other_posts = []"
   ]
  },
  {
   "cell_type": "code",
   "execution_count": 5,
   "metadata": {},
   "outputs": [
    {
     "name": "stdout",
     "output_type": "stream",
     "text": [
      "ask_posts has length 1742.\n",
      "show_posts has length 1161.\n",
      "otherr_posts has length 17197.\n"
     ]
    }
   ],
   "source": [
    "for post in hn:\n",
    "    title = post[1]\n",
    "    if title.startswith('Ask HN'):\n",
    "        ask_posts.append(post)\n",
    "    elif title.startswith('Show HN'):\n",
    "        show_posts.append(post)\n",
    "    else:\n",
    "        other_posts.append(post)\n",
    "print(f'ask_posts has length {len(ask_posts)}.')\n",
    "print(f'show_posts has length {len(show_posts)}.')\n",
    "print(f'otherr_posts has length {len(other_posts)}.')"
   ]
  },
  {
   "cell_type": "code",
   "execution_count": 6,
   "metadata": {},
   "outputs": [],
   "source": [
    "# We will now be determining if ask posts or show posts receive more comments on average."
   ]
  },
  {
   "cell_type": "code",
   "execution_count": 7,
   "metadata": {},
   "outputs": [],
   "source": [
    "def avg_comment_nums(input_list, index): #A function that takes in list and the index of the comment num column to provide the average comment numbers\n",
    "    total_num_comments = 0\n",
    "    for row in input_list:\n",
    "        comment_num = int(row[index])\n",
    "        total_num_comments += comment_num\n",
    "    avg_num_comments = total_num_comments / len(input_list)\n",
    "    print(f'The average number of comments for the type of posts is {avg_num_comments:.2f}')\n",
    "    return avg_num_comments"
   ]
  },
  {
   "cell_type": "code",
   "execution_count": 8,
   "metadata": {},
   "outputs": [
    {
     "name": "stdout",
     "output_type": "stream",
     "text": [
      "The average number of comments for the type of posts is 14.04\n"
     ]
    },
    {
     "data": {
      "text/plain": [
       "14.044776119402986"
      ]
     },
     "execution_count": 8,
     "metadata": {},
     "output_type": "execute_result"
    }
   ],
   "source": [
    "avg_comment_nums(ask_posts,4)"
   ]
  },
  {
   "cell_type": "code",
   "execution_count": 9,
   "metadata": {},
   "outputs": [
    {
     "name": "stdout",
     "output_type": "stream",
     "text": [
      "The average number of comments for the type of posts is 10.32\n"
     ]
    },
    {
     "data": {
      "text/plain": [
       "10.324720068906116"
      ]
     },
     "execution_count": 9,
     "metadata": {},
     "output_type": "execute_result"
    }
   ],
   "source": [
    "avg_comment_nums(show_posts,4)"
   ]
  },
  {
   "cell_type": "markdown",
   "metadata": {},
   "source": [
    "We can see that, on average, Asks Posts receive more comments than Show Posts."
   ]
  },
  {
   "cell_type": "markdown",
   "metadata": {},
   "source": [
    "Next, we will determine how the creation time for the Ask Posts may affect the number of comments the post receives. This will be done through the following steps:"
   ]
  },
  {
   "cell_type": "markdown",
   "metadata": {},
   "source": [
    "1. Calculate the total number of Ask Posts created in each hour of the day.\n",
    "2. Calculate the total number of comments made on these posts.\n",
    "3. Calculate the average number of comments the Ask Posts receive, grouped by the creation time."
   ]
  },
  {
   "cell_type": "code",
   "execution_count": 10,
   "metadata": {},
   "outputs": [
    {
     "name": "stdout",
     "output_type": "stream",
     "text": [
      "{9: 45, 13: 85, 10: 59, 14: 107, 16: 108, 23: 68, 12: 73, 17: 100, 15: 116, 21: 109, 20: 80, 2: 58, 18: 108, 3: 54, 5: 46, 19: 110, 1: 60, 22: 71, 8: 48, 4: 47, 0: 54, 6: 44, 7: 34, 11: 58}\n"
     ]
    }
   ],
   "source": [
    "import datetime as dt\n",
    "result_list = []\n",
    "strp_format = '%m/%d/%Y %H:%M'\n",
    "for post in ask_posts:\n",
    "    created_at = dt.datetime.strptime(post[6],strp_format)\n",
    "    comment_num = int(post[4])\n",
    "    result_list.append([created_at,comment_num])\n",
    "\n",
    "posts_by_hour = dict()\n",
    "comments_by_hour = dict()\n",
    "\n",
    "for row in result_list:\n",
    "    post_time = row[0].hour\n",
    "    comment_num = row[1]\n",
    "    if post_time in posts_by_hour:\n",
    "        posts_by_hour[post_time] += 1\n",
    "        comments_by_hour[post_time] += comment_num\n",
    "    else:\n",
    "        posts_by_hour[post_time] = 1\n",
    "        comments_by_hour[post_time] = comment_num\n",
    "\n",
    "print(posts_by_hour)\n",
    "#Successfully extracted the numebr of posts and the number of comments grouped by the hours."
   ]
  },
  {
   "cell_type": "code",
   "execution_count": 11,
   "metadata": {},
   "outputs": [
    {
     "name": "stdout",
     "output_type": "stream",
     "text": [
      "15:00: 38.59 average comments per post.\n",
      "02:00: 23.81 average comments per post.\n",
      "20:00: 21.52 average comments per post.\n",
      "16:00: 16.80 average comments per post.\n",
      "21:00: 16.01 average comments per post.\n",
      "13:00: 14.74 average comments per post.\n",
      "10:00: 13.44 average comments per post.\n",
      "18:00: 13.24 average comments per post.\n",
      "14:00: 13.23 average comments per post.\n",
      "17:00: 11.46 average comments per post.\n",
      "01:00: 11.38 average comments per post.\n",
      "11:00: 11.05 average comments per post.\n",
      "19:00: 10.80 average comments per post.\n",
      "08:00: 10.25 average comments per post.\n",
      "05:00: 10.09 average comments per post.\n",
      "12:00: 9.41 average comments per post.\n",
      "06:00: 9.02 average comments per post.\n",
      "00:00: 8.13 average comments per post.\n",
      "23:00: 7.99 average comments per post.\n",
      "07:00: 7.85 average comments per post.\n",
      "03:00: 7.80 average comments per post.\n",
      "04:00: 7.17 average comments per post.\n",
      "22:00: 6.75 average comments per post.\n",
      "09:00: 5.58 average comments per post.\n"
     ]
    }
   ],
   "source": [
    "avg_comments_by_hour = []\n",
    "\n",
    "for hour in posts_by_hour:\n",
    "    post_num = posts_by_hour[hour]\n",
    "    comment_num = comments_by_hour[hour]\n",
    "    avg_comments_by_hour.append([comment_num/post_num,hour])\n",
    "\n",
    "avg_comments_by_hour.sort(reverse = True)\n",
    "\n",
    "for row in avg_comments_by_hour:\n",
    "    hour = dt.datetime.strptime(str(row[1]),'%H')\n",
    "    hour = hour.strftime('%H:%M')\n",
    "    print(f'{hour}: {row[0]:.2f} average comments per post.')"
   ]
  },
  {
   "cell_type": "markdown",
   "metadata": {},
   "source": [
    "The above result above shows that Ask Posts created in the Hour 15:00 receives the highest number of comments on average (38.59 comments per post), followed by 02:00 posts at 23.81 commnets per post and 20:00 posts at 21.52 comments per post."
   ]
  },
  {
   "cell_type": "markdown",
   "metadata": {},
   "source": [
    "It has been noted in the [source](https://www.kaggle.com/hacker-news/hacker-news-posts) that the timestamps in the dataset are based on US Eastern Standard Time, which is 15 hours behind the Australian Eastern Standard Time.\n",
    "\n",
    "In this project, we have analysed the post popularity on Hacker News, measured in average comment counts, for different types of posts and posts made at various times. Based on our findings, Ask Hacker News (Ask HN) Posts have a higher chance of receivng comments. Among the Ask HN Posts, the ones posted at 15:00 EST (6:00 AEST) are most likely to receive comments."
   ]
  }
 ],
 "metadata": {
  "kernelspec": {
   "display_name": "Python 3",
   "language": "python",
   "name": "python3"
  },
  "language_info": {
   "codemirror_mode": {
    "name": "ipython",
    "version": 3
   },
   "file_extension": ".py",
   "mimetype": "text/x-python",
   "name": "python",
   "nbconvert_exporter": "python",
   "pygments_lexer": "ipython3",
   "version": "3.7.9"
  }
 },
 "nbformat": 4,
 "nbformat_minor": 2
}
